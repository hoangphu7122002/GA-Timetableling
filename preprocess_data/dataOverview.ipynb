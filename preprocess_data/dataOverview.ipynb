{
  "cells": [
    {
      "cell_type": "code",
      "execution_count": null,
      "metadata": {
        "id": "t182jcfsR49E"
      },
      "outputs": [],
      "source": [
        "import os\n",
        "import pandas as pd\n",
        "import numpy as np\n",
        "import copy\n",
        "import datetime"
      ]
    },
    {
      "cell_type": "code",
      "execution_count": null,
      "metadata": {
        "colab": {
          "base_uri": "https://localhost:8080/"
        },
        "id": "VcpC3A_lSGBk",
        "outputId": "39ad67be-7791-470a-d934-69f512db695f"
      },
      "outputs": [
        {
          "name": "stdout",
          "output_type": "stream",
          "text": [
            "Mounted at /content/drive\n"
          ]
        }
      ],
      "source": [
        "from google.colab import drive\n",
        "drive.mount('/content/drive')"
      ]
    },
    {
      "cell_type": "markdown",
      "metadata": {
        "id": "Uj1e1tV3SM8x"
      },
      "source": [
        "**read csv**"
      ]
    },
    {
      "cell_type": "code",
      "execution_count": null,
      "metadata": {
        "id": "OszdzfJoSN-B"
      },
      "outputs": [],
      "source": [
        "data_path = \"/content/drive/MyDrive/GA/WO thang 3_With Children WOs.xlsx\"\n",
        "df = pd.read_excel(data_path,sheet_name = 'WO_MAR')"
      ]
    },
    {
      "cell_type": "code",
      "execution_count": null,
      "metadata": {
        "id": "FIapXHi_SiNT"
      },
      "outputs": [],
      "source": [
        "df.columns = df.columns.str.lower()"
      ]
    },
    {
      "cell_type": "code",
      "execution_count": null,
      "metadata": {
        "id": "Tdc-W4y7Smgz"
      },
      "outputs": [],
      "source": [
        "column_names = df.columns.to_list()"
      ]
    },
    {
      "cell_type": "code",
      "execution_count": null,
      "metadata": {
        "colab": {
          "base_uri": "https://localhost:8080/"
        },
        "id": "FqwsZT4IioM5",
        "outputId": "540a84db-323d-4fbd-8cfe-dc165889de1e"
      },
      "outputs": [
        {
          "name": "stdout",
          "output_type": "stream",
          "text": [
            "['wonum', 'parent', 'description', 'status', 'priority', 'site', 'wopriority', 'estdur', 'worktype', 'location', 'platform', 'discipline', 'bdpocdiscipline', 'actstart', 'actfinish', 'targstartdate', 'targcompdate', 'schedstart', 'schedfinish', 'estlabhrs', 'estmatcost', 'actlabhrs', 'woclass', 'plusgsafetycrit', 'plusglossquantity', 'plusglossunits', 'funcfailure', 'ggdate', 'checkreportdowntime', 'siteid', 'assetnum', 'istask', 'assignedto', 'estlabcost', 'esttoolcost', 'actlabcost', 'acttoolcost']\n"
          ]
        }
      ],
      "source": [
        "print(column_names)"
      ]
    },
    {
      "cell_type": "code",
      "execution_count": null,
      "metadata": {
        "colab": {
          "base_uri": "https://localhost:8080/"
        },
        "id": "k9GPaTL5iKh5",
        "outputId": "5d53d325-a9f0-425d-aa4d-45908a899c9d"
      },
      "outputs": [
        {
          "data": {
            "text/plain": [
              "0       MECH\n",
              "1       PROD\n",
              "2       PROD\n",
              "3       PROD\n",
              "4       PROD\n",
              "        ... \n",
              "2643    MECH\n",
              "2644    MECH\n",
              "2645    MECH\n",
              "2646    MECH\n",
              "2647    MECH\n",
              "Name: bdpocdiscipline, Length: 2648, dtype: object"
            ]
          },
          "execution_count": 7,
          "metadata": {},
          "output_type": "execute_result"
        }
      ],
      "source": [
        "df['bdpocdiscipline']"
      ]
    },
    {
      "cell_type": "markdown",
      "metadata": {
        "id": "rTAaCxHDSpxh"
      },
      "source": [
        "**convert format date/month/year**"
      ]
    },
    {
      "cell_type": "code",
      "execution_count": null,
      "metadata": {
        "id": "A-BIl_ixSszz"
      },
      "outputs": [],
      "source": [
        "df.targstartdate = df.targstartdate.apply(lambda row : row.strftime('%d/%m/%Y'))"
      ]
    },
    {
      "cell_type": "code",
      "execution_count": null,
      "metadata": {
        "id": "O34jMiiQDvae"
      },
      "outputs": [],
      "source": [
        "df.targstartdate = df.targstartdate.apply(lambda row: row[:-4] + \"000\" + row[-1])"
      ]
    },
    {
      "cell_type": "code",
      "execution_count": null,
      "metadata": {
        "colab": {
          "base_uri": "https://localhost:8080/"
        },
        "id": "83tsM2JbD9-d",
        "outputId": "04f56e12-94d0-4880-f29a-f157e28e45a0"
      },
      "outputs": [
        {
          "data": {
            "text/plain": [
              "0       01/03/0002\n",
              "1       01/12/0001\n",
              "2       01/12/0001\n",
              "3       01/12/0001\n",
              "4       01/12/0001\n",
              "           ...    \n",
              "2643    01/03/0002\n",
              "2644    01/03/0002\n",
              "2645    01/02/0002\n",
              "2646    01/03/0002\n",
              "2647    01/03/0002\n",
              "Name: targstartdate, Length: 2648, dtype: object"
            ]
          },
          "execution_count": 10,
          "metadata": {},
          "output_type": "execute_result"
        }
      ],
      "source": [
        "df.targstartdate"
      ]
    },
    {
      "cell_type": "code",
      "execution_count": null,
      "metadata": {
        "id": "McSP21jUS6iz"
      },
      "outputs": [],
      "source": [
        "df.targcompdate = df.targcompdate.apply(lambda row : row.strftime('%d/%m/%Y'))"
      ]
    },
    {
      "cell_type": "code",
      "execution_count": null,
      "metadata": {
        "id": "XZI2gcOPEveK"
      },
      "outputs": [],
      "source": [
        "df.targcompdate = df.targcompdate.apply(lambda row: row[:-4] + \"000\" + row[-1])"
      ]
    },
    {
      "cell_type": "code",
      "execution_count": null,
      "metadata": {
        "colab": {
          "base_uri": "https://localhost:8080/"
        },
        "id": "hDHIXWy7SvCk",
        "outputId": "4b976020-96ad-4103-9132-ea86c3e6f6ae"
      },
      "outputs": [
        {
          "data": {
            "text/plain": [
              "0       01/03/0002\n",
              "1       01/12/0001\n",
              "2       01/12/0001\n",
              "3       01/12/0001\n",
              "4       01/12/0001\n",
              "           ...    \n",
              "2643    01/03/0002\n",
              "2644    01/03/0002\n",
              "2645    01/02/0002\n",
              "2646    01/03/0002\n",
              "2647    01/03/0002\n",
              "Name: targstartdate, Length: 2648, dtype: object"
            ]
          },
          "execution_count": 13,
          "metadata": {},
          "output_type": "execute_result"
        }
      ],
      "source": [
        "df.targstartdate"
      ]
    },
    {
      "cell_type": "code",
      "execution_count": null,
      "metadata": {
        "id": "ED1aS-IIrVs4"
      },
      "outputs": [],
      "source": [
        "start_date = \"01/03/0002\"\n",
        "end_date = \"31/05/0002\""
      ]
    },
    {
      "cell_type": "code",
      "execution_count": 46,
      "metadata": {
        "id": "rYPpsEpvsB7p"
      },
      "outputs": [],
      "source": [
        "df_3 = df.loc[df.targstartdate.str.contains(\"/03/0002\")]\n",
        "# df = df.loc[df.targstartdate >= start_date]\n",
        "# df = df.loc[df.targstartdate <= end_date]\n",
        "# df = df.loc[df.targcompdate >= start_date]\n",
        "# df = df.loc[df.targcompdate <= end_date]\n",
        "df_4 = df.loc[df.targstartdate.str.contains('/04/0002')]\n",
        "df_5 = df.loc[df.targstartdate.str.contains('/05/0002')]\n",
        "\n",
        "df_3 = df_3.loc[df.targcompdate.str.contains(\"/03/0002\")]\n",
        "df_4 = df_4.loc[df.targcompdate.str.contains('/04/0002')]\n",
        "df_5 = df_5.loc[df.targcompdate.str.contains('/05/0002')]\n",
        "df = pd.concat([df_3, df_4, df_5])\n",
        "df.reset_index(drop=True, inplace=True)"
      ]
    },
    {
      "cell_type": "code",
      "execution_count": null,
      "metadata": {
        "colab": {
          "base_uri": "https://localhost:8080/"
        },
        "id": "71uGjo3ptIIr",
        "outputId": "38dfc395-ad0c-4883-b34b-b85e45d69618"
      },
      "outputs": [
        {
          "data": {
            "text/plain": [
              "2598"
            ]
          },
          "execution_count": 33,
          "metadata": {},
          "output_type": "execute_result"
        }
      ],
      "source": [
        "len(df)"
      ]
    },
    {
      "cell_type": "code",
      "execution_count": null,
      "metadata": {
        "colab": {
          "base_uri": "https://localhost:8080/"
        },
        "id": "r3Ta53bQS8Lc",
        "outputId": "e31edd22-d652-4417-d8de-1babaeaf864a"
      },
      "outputs": [
        {
          "data": {
            "text/plain": [
              "0       31/03/0002\n",
              "1       09/03/0002\n",
              "2       09/03/0002\n",
              "3       09/03/0002\n",
              "4       09/03/0002\n",
              "           ...    \n",
              "2642    09/03/0002\n",
              "2643    12/03/0002\n",
              "2644    31/03/0002\n",
              "2646    31/03/0002\n",
              "2647    31/03/0002\n",
              "Name: targcompdate, Length: 2598, dtype: object"
            ]
          },
          "execution_count": 34,
          "metadata": {},
          "output_type": "execute_result"
        }
      ],
      "source": [
        "df.targcompdate"
      ]
    },
    {
      "cell_type": "code",
      "execution_count": 47,
      "metadata": {
        "colab": {
          "base_uri": "https://localhost:8080/"
        },
        "id": "LniAjfeVt8L5",
        "outputId": "51b45f7c-d4b8-4e63-fe28-8ae14671f2c0"
      },
      "outputs": [
        {
          "data": {
            "text/plain": [
              "0       01/03/0002\n",
              "69      01/03/0002\n",
              "70      01/03/0002\n",
              "71      01/03/0002\n",
              "72      01/03/0002\n",
              "           ...    \n",
              "2641    01/03/0002\n",
              "2643    01/03/0002\n",
              "2644    01/03/0002\n",
              "2646    01/03/0002\n",
              "2647    01/03/0002\n",
              "Name: targstartdate, Length: 2561, dtype: object"
            ]
          },
          "execution_count": 47,
          "metadata": {},
          "output_type": "execute_result"
        }
      ],
      "source": [
        "df.targstartdate"
      ]
    },
    {
      "cell_type": "code",
      "execution_count": 48,
      "metadata": {
        "colab": {
          "base_uri": "https://localhost:8080/"
        },
        "id": "5z8JGtLOvCeT",
        "outputId": "fbc5d213-f01c-471c-8bb7-b24f7b8d6618"
      },
      "outputs": [
        {
          "data": {
            "text/plain": [
              "2561"
            ]
          },
          "execution_count": 48,
          "metadata": {},
          "output_type": "execute_result"
        }
      ],
      "source": [
        "len(df)"
      ]
    },
    {
      "cell_type": "markdown",
      "metadata": {
        "id": "ftQdY1ysTD9e"
      },
      "source": [
        "**~est_dur**"
      ]
    },
    {
      "cell_type": "code",
      "execution_count": 49,
      "metadata": {
        "id": "mDO8sXLfTYgE"
      },
      "outputs": [],
      "source": [
        "df['r_estdur'] = (df['estdur'] // 10) + ((df['estdur'] % 10) != 0)"
      ]
    },
    {
      "cell_type": "code",
      "execution_count": 50,
      "metadata": {
        "id": "plRCmkCFTlgd"
      },
      "outputs": [],
      "source": [
        "df.r_estdur = df.r_estdur.astype('int32')"
      ]
    },
    {
      "cell_type": "code",
      "execution_count": 51,
      "metadata": {
        "colab": {
          "base_uri": "https://localhost:8080/"
        },
        "id": "O6qVZ6Z7TnAd",
        "outputId": "c590abd8-aeb4-42c3-b36d-711ceea0c148"
      },
      "outputs": [
        {
          "data": {
            "text/plain": [
              "0       2\n",
              "69      2\n",
              "70      1\n",
              "71      2\n",
              "72      1\n",
              "       ..\n",
              "2641    2\n",
              "2643    6\n",
              "2644    1\n",
              "2646    1\n",
              "2647    1\n",
              "Name: r_estdur, Length: 2561, dtype: int32"
            ]
          },
          "execution_count": 51,
          "metadata": {},
          "output_type": "execute_result"
        }
      ],
      "source": [
        "df.r_estdur"
      ]
    },
    {
      "cell_type": "markdown",
      "metadata": {
        "id": "NWadruhoT2Fu"
      },
      "source": [
        "**convert categorical to number**"
      ]
    },
    {
      "cell_type": "code",
      "execution_count": 52,
      "metadata": {
        "id": "2wOEFqwYTzUz"
      },
      "outputs": [],
      "source": [
        "df.priority.value_counts()\n",
        "priority_dict = {'Urgent' : 3, 'High' : 2, 'Medium' : 1, 'Low' : 0}\n",
        "\n",
        "df.priority = df.priority.map(priority_dict)"
      ]
    },
    {
      "cell_type": "markdown",
      "metadata": {
        "id": "K2grDH9XUCVQ"
      },
      "source": [
        "**subset data**"
      ]
    },
    {
      "cell_type": "code",
      "execution_count": 53,
      "metadata": {
        "id": "-tejfDoJTtm0"
      },
      "outputs": [],
      "source": [
        "col_usage = ['wonum','parent','priority','site','bdpocdiscipline','estdur','targstartdate','targcompdate','r_estdur']"
      ]
    },
    {
      "cell_type": "code",
      "execution_count": 54,
      "metadata": {
        "id": "0fzBU9oUUEkJ"
      },
      "outputs": [],
      "source": [
        "data = df[col_usage]"
      ]
    },
    {
      "cell_type": "code",
      "execution_count": 55,
      "metadata": {
        "id": "7NI8xPBmUGIw"
      },
      "outputs": [],
      "source": [
        "path = \"/content/drive/MyDrive/GA\"\n",
        "filename = path + \"/data.csv\"\n",
        "data.to_csv(filename)\n",
        "data.reset_index(drop = True, inplace = True)"
      ]
    }
  ],
  "metadata": {
    "colab": {
      "name": "dataOverview.ipynb",
      "provenance": []
    },
    "kernelspec": {
      "display_name": "Python 3",
      "name": "python3"
    },
    "language_info": {
      "name": "python"
    }
  },
  "nbformat": 4,
  "nbformat_minor": 0
}
