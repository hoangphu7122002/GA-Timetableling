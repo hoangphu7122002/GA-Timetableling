{
  "nbformat": 4,
  "nbformat_minor": 0,
  "metadata": {
    "colab": {
      "name": "dataOverview.ipynb",
      "provenance": []
    },
    "kernelspec": {
      "name": "python3",
      "display_name": "Python 3"
    },
    "language_info": {
      "name": "python"
    }
  },
  "cells": [
    {
      "cell_type": "code",
      "execution_count": null,
      "metadata": {
        "id": "t182jcfsR49E"
      },
      "outputs": [],
      "source": [
        "import os\n",
        "import pandas as pd\n",
        "import numpy as np\n",
        "import copy\n",
        "import datetime"
      ]
    },
    {
      "cell_type": "code",
      "source": [
        "from google.colab import drive\n",
        "drive.mount('/content/drive')"
      ],
      "metadata": {
        "colab": {
          "base_uri": "https://localhost:8080/"
        },
        "id": "VcpC3A_lSGBk",
        "outputId": "39ad67be-7791-470a-d934-69f512db695f"
      },
      "execution_count": null,
      "outputs": [
        {
          "output_type": "stream",
          "name": "stdout",
          "text": [
            "Mounted at /content/drive\n"
          ]
        }
      ]
    },
    {
      "cell_type": "markdown",
      "source": [
        "**read csv**"
      ],
      "metadata": {
        "id": "Uj1e1tV3SM8x"
      }
    },
    {
      "cell_type": "code",
      "source": [
        "data_path = \"/content/drive/MyDrive/GA/WO thang 3_With Children WOs.xlsx\"\n",
        "df = pd.read_excel(data_path,sheet_name = 'WO_MAR')"
      ],
      "metadata": {
        "id": "OszdzfJoSN-B"
      },
      "execution_count": null,
      "outputs": []
    },
    {
      "cell_type": "code",
      "source": [
        "df.columns = df.columns.str.lower()"
      ],
      "metadata": {
        "id": "FIapXHi_SiNT"
      },
      "execution_count": null,
      "outputs": []
    },
    {
      "cell_type": "code",
      "source": [
        "column_names = df.columns.to_list()"
      ],
      "metadata": {
        "id": "Tdc-W4y7Smgz"
      },
      "execution_count": null,
      "outputs": []
    },
    {
      "cell_type": "code",
      "source": [
        "print(column_names)"
      ],
      "metadata": {
        "colab": {
          "base_uri": "https://localhost:8080/"
        },
        "id": "FqwsZT4IioM5",
        "outputId": "540a84db-323d-4fbd-8cfe-dc165889de1e"
      },
      "execution_count": null,
      "outputs": [
        {
          "output_type": "stream",
          "name": "stdout",
          "text": [
            "['wonum', 'parent', 'description', 'status', 'priority', 'site', 'wopriority', 'estdur', 'worktype', 'location', 'platform', 'discipline', 'bdpocdiscipline', 'actstart', 'actfinish', 'targstartdate', 'targcompdate', 'schedstart', 'schedfinish', 'estlabhrs', 'estmatcost', 'actlabhrs', 'woclass', 'plusgsafetycrit', 'plusglossquantity', 'plusglossunits', 'funcfailure', 'ggdate', 'checkreportdowntime', 'siteid', 'assetnum', 'istask', 'assignedto', 'estlabcost', 'esttoolcost', 'actlabcost', 'acttoolcost']\n"
          ]
        }
      ]
    },
    {
      "cell_type": "code",
      "source": [
        "df['bdpocdiscipline']"
      ],
      "metadata": {
        "colab": {
          "base_uri": "https://localhost:8080/"
        },
        "id": "k9GPaTL5iKh5",
        "outputId": "5d53d325-a9f0-425d-aa4d-45908a899c9d"
      },
      "execution_count": null,
      "outputs": [
        {
          "output_type": "execute_result",
          "data": {
            "text/plain": [
              "0       MECH\n",
              "1       PROD\n",
              "2       PROD\n",
              "3       PROD\n",
              "4       PROD\n",
              "        ... \n",
              "2643    MECH\n",
              "2644    MECH\n",
              "2645    MECH\n",
              "2646    MECH\n",
              "2647    MECH\n",
              "Name: bdpocdiscipline, Length: 2648, dtype: object"
            ]
          },
          "metadata": {},
          "execution_count": 7
        }
      ]
    },
    {
      "cell_type": "markdown",
      "source": [
        "**convert format date/month/year**"
      ],
      "metadata": {
        "id": "rTAaCxHDSpxh"
      }
    },
    {
      "cell_type": "code",
      "source": [
        "df.targstartdate = df.targstartdate.apply(lambda row : row.strftime('%d/%m/%Y'))"
      ],
      "metadata": {
        "id": "A-BIl_ixSszz"
      },
      "execution_count": null,
      "outputs": []
    },
    {
      "cell_type": "code",
      "source": [
        "df.targstartdate = df.targstartdate.apply(lambda row: row[:-4] + \"000\" + row[-1])"
      ],
      "metadata": {
        "id": "O34jMiiQDvae"
      },
      "execution_count": null,
      "outputs": []
    },
    {
      "cell_type": "code",
      "source": [
        "df.targstartdate"
      ],
      "metadata": {
        "colab": {
          "base_uri": "https://localhost:8080/"
        },
        "id": "83tsM2JbD9-d",
        "outputId": "04f56e12-94d0-4880-f29a-f157e28e45a0"
      },
      "execution_count": null,
      "outputs": [
        {
          "output_type": "execute_result",
          "data": {
            "text/plain": [
              "0       01/03/0002\n",
              "1       01/12/0001\n",
              "2       01/12/0001\n",
              "3       01/12/0001\n",
              "4       01/12/0001\n",
              "           ...    \n",
              "2643    01/03/0002\n",
              "2644    01/03/0002\n",
              "2645    01/02/0002\n",
              "2646    01/03/0002\n",
              "2647    01/03/0002\n",
              "Name: targstartdate, Length: 2648, dtype: object"
            ]
          },
          "metadata": {},
          "execution_count": 10
        }
      ]
    },
    {
      "cell_type": "code",
      "source": [
        "df.targcompdate = df.targcompdate.apply(lambda row : row.strftime('%d/%m/%Y'))"
      ],
      "metadata": {
        "id": "McSP21jUS6iz"
      },
      "execution_count": null,
      "outputs": []
    },
    {
      "cell_type": "code",
      "source": [
        "df.targcompdate = df.targcompdate.apply(lambda row: row[:-4] + \"000\" + row[-1])"
      ],
      "metadata": {
        "id": "XZI2gcOPEveK"
      },
      "execution_count": null,
      "outputs": []
    },
    {
      "cell_type": "code",
      "source": [
        "df.targstartdate"
      ],
      "metadata": {
        "colab": {
          "base_uri": "https://localhost:8080/"
        },
        "id": "hDHIXWy7SvCk",
        "outputId": "4b976020-96ad-4103-9132-ea86c3e6f6ae"
      },
      "execution_count": null,
      "outputs": [
        {
          "output_type": "execute_result",
          "data": {
            "text/plain": [
              "0       01/03/0002\n",
              "1       01/12/0001\n",
              "2       01/12/0001\n",
              "3       01/12/0001\n",
              "4       01/12/0001\n",
              "           ...    \n",
              "2643    01/03/0002\n",
              "2644    01/03/0002\n",
              "2645    01/02/0002\n",
              "2646    01/03/0002\n",
              "2647    01/03/0002\n",
              "Name: targstartdate, Length: 2648, dtype: object"
            ]
          },
          "metadata": {},
          "execution_count": 13
        }
      ]
    },
    {
      "cell_type": "code",
      "source": [
        "start_date = \"01/03/0002\"\n",
        "end_date = \"31/05/0002\""
      ],
      "metadata": {
        "id": "ED1aS-IIrVs4"
      },
      "execution_count": null,
      "outputs": []
    },
    {
      "cell_type": "code",
      "source": [
        "df = df.loc[df.targstartdate.str.contains(\"0002\")]\n",
        "df = df.loc[df.targstartdate >= start_date]\n",
        "df = df.loc[df.targstartdate <= end_date]\n",
        "df = df.loc[df.targcompdate >= start_date]\n",
        "df = df.loc[df.targcompdate <= end_date]"
      ],
      "metadata": {
        "id": "rYPpsEpvsB7p"
      },
      "execution_count": 46,
      "outputs": []
    },
    {
      "cell_type": "code",
      "source": [
        "len(df)"
      ],
      "metadata": {
        "colab": {
          "base_uri": "https://localhost:8080/"
        },
        "id": "71uGjo3ptIIr",
        "outputId": "38dfc395-ad0c-4883-b34b-b85e45d69618"
      },
      "execution_count": null,
      "outputs": [
        {
          "output_type": "execute_result",
          "data": {
            "text/plain": [
              "2598"
            ]
          },
          "metadata": {},
          "execution_count": 33
        }
      ]
    },
    {
      "cell_type": "code",
      "source": [
        "df.targcompdate"
      ],
      "metadata": {
        "colab": {
          "base_uri": "https://localhost:8080/"
        },
        "id": "r3Ta53bQS8Lc",
        "outputId": "e31edd22-d652-4417-d8de-1babaeaf864a"
      },
      "execution_count": null,
      "outputs": [
        {
          "output_type": "execute_result",
          "data": {
            "text/plain": [
              "0       31/03/0002\n",
              "1       09/03/0002\n",
              "2       09/03/0002\n",
              "3       09/03/0002\n",
              "4       09/03/0002\n",
              "           ...    \n",
              "2642    09/03/0002\n",
              "2643    12/03/0002\n",
              "2644    31/03/0002\n",
              "2646    31/03/0002\n",
              "2647    31/03/0002\n",
              "Name: targcompdate, Length: 2598, dtype: object"
            ]
          },
          "metadata": {},
          "execution_count": 34
        }
      ]
    },
    {
      "cell_type": "code",
      "source": [
        "df.targstartdate"
      ],
      "metadata": {
        "colab": {
          "base_uri": "https://localhost:8080/"
        },
        "id": "LniAjfeVt8L5",
        "outputId": "51b45f7c-d4b8-4e63-fe28-8ae14671f2c0"
      },
      "execution_count": 47,
      "outputs": [
        {
          "output_type": "execute_result",
          "data": {
            "text/plain": [
              "0       01/03/0002\n",
              "69      01/03/0002\n",
              "70      01/03/0002\n",
              "71      01/03/0002\n",
              "72      01/03/0002\n",
              "           ...    \n",
              "2641    01/03/0002\n",
              "2643    01/03/0002\n",
              "2644    01/03/0002\n",
              "2646    01/03/0002\n",
              "2647    01/03/0002\n",
              "Name: targstartdate, Length: 2561, dtype: object"
            ]
          },
          "metadata": {},
          "execution_count": 47
        }
      ]
    },
    {
      "cell_type": "code",
      "source": [
        "len(df)"
      ],
      "metadata": {
        "colab": {
          "base_uri": "https://localhost:8080/"
        },
        "id": "5z8JGtLOvCeT",
        "outputId": "fbc5d213-f01c-471c-8bb7-b24f7b8d6618"
      },
      "execution_count": 48,
      "outputs": [
        {
          "output_type": "execute_result",
          "data": {
            "text/plain": [
              "2561"
            ]
          },
          "metadata": {},
          "execution_count": 48
        }
      ]
    },
    {
      "cell_type": "markdown",
      "source": [
        "**~est_dur**"
      ],
      "metadata": {
        "id": "ftQdY1ysTD9e"
      }
    },
    {
      "cell_type": "code",
      "source": [
        "df['r_estdur'] = (df['estdur'] // 10) + ((df['estdur'] % 10) != 0)"
      ],
      "metadata": {
        "id": "mDO8sXLfTYgE"
      },
      "execution_count": 49,
      "outputs": []
    },
    {
      "cell_type": "code",
      "source": [
        "df.r_estdur = df.r_estdur.astype('int32')"
      ],
      "metadata": {
        "id": "plRCmkCFTlgd"
      },
      "execution_count": 50,
      "outputs": []
    },
    {
      "cell_type": "code",
      "source": [
        "df.r_estdur"
      ],
      "metadata": {
        "colab": {
          "base_uri": "https://localhost:8080/"
        },
        "id": "O6qVZ6Z7TnAd",
        "outputId": "c590abd8-aeb4-42c3-b36d-711ceea0c148"
      },
      "execution_count": 51,
      "outputs": [
        {
          "output_type": "execute_result",
          "data": {
            "text/plain": [
              "0       2\n",
              "69      2\n",
              "70      1\n",
              "71      2\n",
              "72      1\n",
              "       ..\n",
              "2641    2\n",
              "2643    6\n",
              "2644    1\n",
              "2646    1\n",
              "2647    1\n",
              "Name: r_estdur, Length: 2561, dtype: int32"
            ]
          },
          "metadata": {},
          "execution_count": 51
        }
      ]
    },
    {
      "cell_type": "markdown",
      "source": [
        "**convert categorical to number**"
      ],
      "metadata": {
        "id": "NWadruhoT2Fu"
      }
    },
    {
      "cell_type": "code",
      "source": [
        "df.priority.value_counts()\n",
        "priority_dict = {'Urgent' : 3, 'High' : 2, 'Medium' : 1, 'Low' : 0}\n",
        "\n",
        "df.priority = df.priority.map(priority_dict)"
      ],
      "metadata": {
        "id": "2wOEFqwYTzUz"
      },
      "execution_count": 52,
      "outputs": []
    },
    {
      "cell_type": "markdown",
      "source": [
        "**subset data**"
      ],
      "metadata": {
        "id": "K2grDH9XUCVQ"
      }
    },
    {
      "cell_type": "code",
      "source": [
        "col_usage = ['wonum','parent','priority','site','bdpocdiscipline','estdur','targstartdate','targcompdate','r_estdur']"
      ],
      "metadata": {
        "id": "-tejfDoJTtm0"
      },
      "execution_count": 53,
      "outputs": []
    },
    {
      "cell_type": "code",
      "source": [
        "data = df[col_usage]"
      ],
      "metadata": {
        "id": "0fzBU9oUUEkJ"
      },
      "execution_count": 54,
      "outputs": []
    },
    {
      "cell_type": "code",
      "source": [
        "path = \"/content/drive/MyDrive/GA\"\n",
        "filename = path + \"/preprocessing_data.xlsx\"\n",
        "data.to_excel(filename, sheet_name = 'WO_MAR')\n",
        "data.reset_index(drop = True, inplace = True)"
      ],
      "metadata": {
        "id": "7NI8xPBmUGIw"
      },
      "execution_count": 55,
      "outputs": []
    }
  ]
}